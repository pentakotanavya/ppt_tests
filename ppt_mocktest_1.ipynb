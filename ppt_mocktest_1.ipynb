{
  "nbformat": 4,
  "nbformat_minor": 0,
  "metadata": {
    "colab": {
      "provenance": []
    },
    "kernelspec": {
      "name": "python3",
      "display_name": "Python 3"
    },
    "language_info": {
      "name": "python"
    }
  },
  "cells": [
    {
      "cell_type": "markdown",
      "source": [
        "Given an integer array nums, move all 0's to the end of it while maintaining the relative order of the non-zero elements.\n",
        "\n",
        "Note that you must do this in-place without making a copy of the array.\n",
        "\n",
        "Example 1:\n",
        "Input: nums = [0,1,0,3,12]\n",
        "Output: [1,3,12,0,0]\n"
      ],
      "metadata": {
        "id": "ElakK824zdWr"
      }
    },
    {
      "cell_type": "code",
      "source": [
        "nums = [0,1,0,3,12]\n",
        "j=0\n",
        "for i in range(len(nums)):\n",
        "    if nums[i] != 0:\n",
        "        nums[j], nums[i] = nums[i], nums[j]  # Partitioning the array\n",
        "        j += 1\n",
        "print(nums)"
      ],
      "metadata": {
        "colab": {
          "base_uri": "https://localhost:8080/"
        },
        "id": "qq9N4BsWzfS7",
        "outputId": "efac1ff9-7e98-456b-e136-b9c76f16a860"
      },
      "execution_count": null,
      "outputs": [
        {
          "output_type": "stream",
          "name": "stdout",
          "text": [
            "[1, 3, 12, 0, 0]\n"
          ]
        }
      ]
    },
    {
      "cell_type": "markdown",
      "source": [
        "Given a string s, find the first non-repeating character in it and return its index. If it does not exist, return -1.\n",
        "\n"
      ],
      "metadata": {
        "id": "fRZhR7wW0XI7"
      }
    },
    {
      "cell_type": "code",
      "source": [
        "string =\"loveleetcode\"\n",
        "index = 0\n",
        "fnc = \"\"\n",
        " \n",
        "if len(string) == 0 :\n",
        "  print(\"EMTPY STRING\");\n",
        " \n",
        "for i in string:\n",
        "    if string.count(i) == 1:\n",
        "        fnc += i\n",
        "        break\n",
        "    else:\n",
        "        index += 1\n",
        "if index == len(string)-1 :\n",
        "    print(\"All characters are repeating \")\n",
        "else:\n",
        "    print(\"First non-repeating character is\", fnc,index)\n",
        " "
      ],
      "metadata": {
        "colab": {
          "base_uri": "https://localhost:8080/"
        },
        "id": "aJSAmcqn33aO",
        "outputId": "95184b24-dbb3-4e51-94e0-035bb886b5da"
      },
      "execution_count": 58,
      "outputs": [
        {
          "output_type": "stream",
          "name": "stdout",
          "text": [
            "First non-repeating character is v 2\n"
          ]
        }
      ]
    }
  ]
}