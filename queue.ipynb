{
  "nbformat": 4,
  "nbformat_minor": 0,
  "metadata": {
    "colab": {
      "provenance": [],
      "authorship_tag": "ABX9TyN3VkeXVCLiiiclbI+UV1QL",
      "include_colab_link": true
    },
    "kernelspec": {
      "name": "python3",
      "display_name": "Python 3"
    },
    "language_info": {
      "name": "python"
    }
  },
  "cells": [
    {
      "cell_type": "markdown",
      "metadata": {
        "id": "view-in-github",
        "colab_type": "text"
      },
      "source": [
        "<a href=\"https://colab.research.google.com/github/pentakotanavya/ppt_tests/blob/main/queue.ipynb\" target=\"_parent\"><img src=\"https://colab.research.google.com/assets/colab-badge.svg\" alt=\"Open In Colab\"/></a>"
      ]
    },
    {
      "cell_type": "code",
      "source": [
        "queue = []\n",
        "\n",
        "while True:\n",
        "    command = input(\"What do you want to do?\\n\")\n",
        "\n",
        "    if command == \"enqueue\":\n",
        "        enqueue = int(input(\"Enter the element to Enqueue: \"))\n",
        "        queue.append(enqueue)\n",
        "    elif command == \"dequeue\":\n",
        "        queue.pop(0)\n",
        "    elif command == \"print\":\n",
        "        print(queue)\n",
        "    elif command == \"front\":\n",
        "        print(queue[0])\n",
        "    elif command == \"rear\":\n",
        "        print(queue[len(queue)-1])\n",
        "    else:\n",
        "        break\n",
        "\n",
        "print(queue)"
      ],
      "metadata": {
        "colab": {
          "base_uri": "https://localhost:8080/"
        },
        "id": "Z0_LJzya1WMP",
        "outputId": "e1e78119-aff3-4473-c26c-0a9a9ffdf47c"
      },
      "execution_count": null,
      "outputs": [
        {
          "output_type": "stream",
          "name": "stdout",
          "text": [
            "What do you want to do?\n",
            "enqueue\n",
            "Enter the element to Enqueue: 1\n",
            "What do you want to do?\n",
            "enqueue\n",
            "Enter the element to Enqueue: 5\n",
            "What do you want to do?\n",
            "print\n",
            "[1, 5]\n",
            "What do you want to do?\n",
            "dequeue\n",
            "What do you want to do?\n",
            "print\n",
            "[5]\n",
            "What do you want to do?\n",
            "dequeue\n",
            "What do you want to do?\n",
            "print\n",
            "[]\n"
          ]
        }
      ]
    }
  ]
}